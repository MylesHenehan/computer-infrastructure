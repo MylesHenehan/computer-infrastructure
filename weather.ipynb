{
 "cells": [
  {
   "cell_type": "markdown",
   "metadata": {},
   "source": [
    "# Task 8: Summary of the steps taken to complete tasks 1-7\n",
    "### Author: Myles Henehan"
   ]
  },
  {
   "cell_type": "markdown",
   "metadata": {},
   "source": [
    "## Task 1: Create Directory Structure\n",
    "To complete task 1, I opened Codespaces and noticed instantly from the command line I was in my home directory (computer-infrastructure (main)).\n",
    "I then used the command **mkdir data** to create a new folder called \"data\" within my home directory.\n"
   ]
  },
  {
   "cell_type": "markdown",
   "metadata": {},
   "source": [
    "## Task 2: Timestamps\n",
    "For this task, I used the command **date >> now.txt**. This first retrieved the date and then appended the output to a text file called \"now.txt\". Since this file did not yet exist, the command created the file the first time it was run, and then appended the output to the same file the following 10 times. I then used the command **more now.txt** to verify that the text file contained the contents I wanted. I discovered I had only repeated the command 9 times instead of 10.\n",
    "\n",
    "Since I was making notes in this Jupyter notebook, I had forgotten that I had gone back to my home directory. As such, when I ran the command **date >> now.txt** again, it created a new text file within my home directory.\n",
    "\n",
    "To amend this, I used the command **cat now.txt >> data/timestamps/now.txt**. This effectively read the contents of the now.txt file in my home directory and appended it to the now.txt file that was in my timestamps folder. I took care to ensure I had used \">>\" rather than \">\", as the latter would have overwritten my existing now.txt file.\n",
    "\n",
    "I then double checked I was in my home directory using the command **pwd** and used **rm now.txt** to remove the file I had created by mistake.\n"
   ]
  }
 ],
 "metadata": {
  "language_info": {
   "name": "python"
  }
 },
 "nbformat": 4,
 "nbformat_minor": 2
}
