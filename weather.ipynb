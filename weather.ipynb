{
 "cells": [
  {
   "cell_type": "markdown",
   "metadata": {},
   "source": [
    "# Task 8: Summary of the steps taken to complete tasks 1-7\n",
    "This notebook details the steps taken to complete each of the tasks 1 to 7.\n",
    "\n",
    "Author: Myles Henehan"
   ]
  },
  {
   "cell_type": "markdown",
   "metadata": {},
   "source": [
    "## Task 1: Create Directory Structure\n",
    "To complete task 1, I opened Codespaces and noticed instantly from the command line I was in my home directory (computer-infrastructure (main)).\n",
    "I then used the command **mkdir data** to create a new folder called \"data\" within my home directory.\n"
   ]
  },
  {
   "cell_type": "markdown",
   "metadata": {},
   "source": [
    "## Task 2: Timestamps\n",
    "For this task, I used the command **date >> now.txt**. This first retrieved the date and then appended the output to a text file called \"now.txt\". Since this file did not yet exist, the command created the file the first time it was run, and then appended the output to the same file the following 10 times. I used the up arrow when repeating the command so I wouldn't have to type it out each time. I then used the command **more now.txt** to verify that the text file contained the contents I wanted. I discovered I had only repeated the command 9 times instead of 10.\n",
    "\n",
    "Since I was making notes in this Jupyter notebook, I had forgotten that I had gone back to my home directory. As such, when I ran the command **date >> now.txt** again, it created a new text file within my home directory.\n",
    "\n",
    "To amend this, I used the command **cat now.txt >> data/timestamps/now.txt**. This effectively read the contents of the now.txt file in my home directory and appended it to the now.txt file that was in my timestamps folder. I took care to ensure I had used \">>\" rather than \">\", as the latter would have overwritten my existing now.txt file.\n",
    "\n",
    "I then double checked I was in my home directory using the command **pwd** and used **rm now.txt** to remove the file I had created by mistake.\n"
   ]
  },
  {
   "cell_type": "markdown",
   "metadata": {},
   "source": [
    "## Task 3: Formatting Timestamps\n",
    "For this task I ran the data command again, but this time I specified which format I would like the date to be in. For this, I ran the command **date \"+%Y%m%d_%H%M%S\" >> formatted.txt**, thus appending the formatted output to a new text file. Since I made quite a few mistakes in the format, I referred to the man page, using **man date**, to see where I was going wrong (for instance, I was using upper case M for Month, causing an error, since upper case M refers to Minute while lower case m refers to month). To exit the man page, I used **q**."
   ]
  },
  {
   "cell_type": "markdown",
   "metadata": {
    "vscode": {
     "languageId": "plaintext"
    }
   },
   "source": [
    "## Task 4: Create Timestamped Files\n",
    "To complete this task, I used the command **touch \\`date \"+ %Y%m%d_%H%M%S\"\\`.txt**. This created a new empty text file, using the output of the date command as the file name.\n",
    "In doing so, I made sure to add the .txt extension after the backtick since only the date command should be within the backticks."
   ]
  },
  {
   "cell_type": "markdown",
   "metadata": {},
   "source": [
    "## Task 5: Download Today's Weather Data\n",
    "To complete this task, I first moved to the weather directory using the command cd ../weather. Here, the .. represents the parent folder, so this is a handy way of moving between directories of the same hierarchy without having to type out the full path.\n",
    "To save the data from the Athenry weather station, I used the command **wget -O weather.json https://prodapi.metweb.ie/observations/athenry/today**. The command wget retrieves data from the url provided. By using the -O extension, this allowed me to determine the name of the file this data was saved as.\n"
   ]
  }
 ],
 "metadata": {
  "language_info": {
   "name": "python"
  }
 },
 "nbformat": 4,
 "nbformat_minor": 2
}
